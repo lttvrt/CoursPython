{
  "nbformat": 4,
  "nbformat_minor": 0,
  "metadata": {
    "colab": {
      "provenance": [],
      "toc_visible": true
    },
    "kernelspec": {
      "name": "python3",
      "display_name": "Python 3"
    },
    "language_info": {
      "name": "python"
    }
  },
  "cells": [
    {
      "cell_type": "markdown",
      "source": [
        "# Python : Introduction à la programmation\n",
        "\n",
        "Python est un langage de programmation interprété, de haut niveau et polyvalent. Créé par Guido van Rossum et d'abord publié en 1991, Python est aujourd'hui l'un des langages les plus populaires au monde, utilisé dans une grande variété de domaines tels que le développement web, l'analyse de données, l'intelligence artificielle, l'automatisation, les jeux vidéo, etc.\n",
        "\n",
        "## Pourquoi Python ?\n",
        "\n",
        "- **Lisibilité du code :** Python se distingue par sa syntaxe simple et claire qui le rend facile à lire et à écrire. Cela en fait un excellent langage pour les débutants en programmation.\n",
        "  \n",
        "- **Polyvalence :** Python est un langage polyvalent, adapté à une grande variété de tâches de programmation, de l'automatisation de tâches simples à la création de systèmes complexes.\n",
        "\n",
        "- **Vaste écosystème :** Python dispose d'une vaste bibliothèque standard ainsi que d'une multitude de packages tiers qui étendent ses fonctionnalités dans divers domaines.\n",
        "\n",
        "- **Communauté active :** La communauté Python est dynamique et accueillante. Il existe de nombreuses ressources en ligne, des forums de discussion, des tutoriels et des documentation pour aider les programmeurs de tous niveaux.\n",
        "\n",
        "## Les caractéristiques de Python\n",
        "\n",
        "- **Langage interprété :** Python est un langage interprété, ce qui signifie que les instructions sont exécutées ligne par ligne par l'interpréteur Python.\n",
        "\n",
        "- **Dynamiquement typé :** Les variables en Python n'ont pas besoin d'être explicitement déclarées avec un type et peuvent changer de type au cours de l'exécution du programme.\n",
        "\n",
        "- **Orienté objet :** Python prend en charge la programmation orientée objet, ce qui permet de créer des classes et des objets pour organiser et structurer le code.\n",
        "\n",
        "- **Indentation :** Contrairement à de nombreux langages de programmation qui utilisent des accolades pour délimiter les blocs de code, Python utilise l'indentation pour déterminer la structure du code."
      ],
      "metadata": {
        "id": "YUGzan5BBZTH"
      }
    },
    {
      "cell_type": "markdown",
      "source": [
        "# Principales Fonctions de Python\n",
        "\n",
        "Python propose un ensemble de fonctions intégrées qui simplifient le processus de programmation et qui sont essentielles. Comprendre ces fonctions de base est crucial pour apprendre à coder avec Python.\n",
        "\n",
        "| Type       | Description                                 | Exemple   | Résultat de l'exemple |\n",
        "|------------|---------------------------------------------|-----------|-----------------------|\n",
        "| int        | Entier                                      | `x = 42`  | `42`                  |\n",
        "| float      | Nombre à virgule flottante                  | `y = 3.14`| `3.14`                |\n",
        "| bool       | Valeur booléenne (Vrai ou Faux)             | `z = True`| `True`                |\n",
        "| str        | Chaîne de caractères (texte)                | `chaine = \"Hello, World!\"` | `Hello, World!`     |\n",
        "| bytes      | Suite d'octets                              | `b = b\"Hello\"` | `b'Hello'`          |\n",
        "| NoneType   | Absence de valeur                           | `a = None`| `None`               |"
      ],
      "metadata": {
        "id": "I2fZdPy49-eD"
      }
    },
    {
      "cell_type": "markdown",
      "source": [
        "# Opérations Mathématiques de Base\n",
        "Python prend en charge les opérations mathématiques de base :\n",
        "\n",
        "| Opérateur | Description               | Exemple   | Résultat de l'exemple |\n",
        "|-----------|---------------------------|-----------|-----------------------|\n",
        "| `+`       | Addition                  | `5 + 3`   | `8`                   |\n",
        "| `-`       | Soustraction             | `5 - 3`   | `2`                   |\n",
        "| `*`       | Multiplication           | `5 * 3`   | `15`                  |\n",
        "| `/`       | Division                 | `5 / 2`   | `2.5`                 |\n",
        "| `//`      | Division entière (quotient) | `5 // 2` | `2`                   |\n",
        "| `%`       | Modulo (reste de la division) | `5 % 2`  | `1`                   |\n",
        "| `**`      | Exposant (puissance)    | `5 ** 2`  | `25`                  |\n"
      ],
      "metadata": {
        "id": "4FzUPTiAB_fF"
      }
    },
    {
      "cell_type": "markdown",
      "source": [
        "# Les fonctions de base de python\n",
        "\n",
        "| Fonction/Méthode | Description                                                                 | Exemple                                                                                   | Résultat de l'exemple                   |\n",
        "|------------------|-----------------------------------------------------------------------------|-------------------------------------------------------------------------------------------|------------------------------------------|\n",
        "| `len()`          | Renvoie la longueur d'une séquence (nombre d'éléments dans une liste, chaîne, etc.) | `ma_liste = [1, 2, 3]`, `longueur = len(ma_liste)`                                         | `3`                                    |\n",
        "| `input()`        | Demande une entrée utilisateur et renvoie une chaîne de caractères                | `nom = input(\"Entrez votre nom : \")`                                                         | `\"Alice\"` (si l'utilisateur entre \"Alice\") |\n",
        "| `print()`        | Affiche du texte ou des valeurs à l'écran                                      | `print(\"Bonjour, monde!\")`, `print(5 + 3)`                                                  | `\"Bonjour, monde!\", 8`                  |\n",
        "| `str()`          | Convertit une valeur en chaîne de caractères                                    | `x = 42`, `chaine = str(x)`                                                                | `\"42\"`                                    |\n",
        "| `int()`          | Convertit une valeur en entier                                                | `y = 3.14`, `entier = int(y)`                                                             | `3`                                      |\n",
        "| `float()`        | Convertit une valeur en nombre à virgule flottante                            | `z = \"3.14\"`, `flottant = float(z)`                                                        | `3.14`                                   |\n",
        "| `type()`         | Renvoie le type d'une variable ou d'une valeur                                 | `a = True`, `t = type(a)`                                                                 | `<class 'bool'>`                        |\n"
      ],
      "metadata": {
        "id": "EzEeDXquDC1i"
      }
    },
    {
      "cell_type": "markdown",
      "source": [
        "# Structures de contrôle en Python\n",
        "Les structures de contrôle sont des éléments essentiels de la programmation qui permettent de contrôler le flux d'exécution d'un programme.\n",
        "\n",
        "En Python, les principales structures de contrôle sont les instructions conditionnelles (if, elif, else) et les boucles (for, while).\n",
        "\n",
        "# Les comparaisons\n",
        "| Opérateur | Description                                   | Exemple                      | Résultat de l'exemple |\n",
        "|-----------|-----------------------------------------------|------------------------------|-----------------------|\n",
        "| `==`      | Égal à                                         | `5 == 5`                     | `True`                |\n",
        "| `!=`      | Différent de                                   | `5 != 3`                     | `True`                |\n",
        "| `<`       | Strictement inférieur à                       | `3 < 5`                      | `True`                |\n",
        "| `>`       | Strictement supérieur à                       | `5 > 3`                      | `True`                |\n",
        "| `<=`      | Inférieur ou égal à                            | `5 <= 5`                     | `True`                |\n",
        "| `>=`      | Supérieur ou égal à                            | `5 >= 3`                     | `True`                |\n",
        "\n",
        "\n",
        "# les Opérations logiques\n",
        "\n",
        "| Opérateur | Description                   | Exemple                      | Résultat de l'exemple |\n",
        "|-----------|-------------------------------|------------------------------|-----------------------|\n",
        "| `and`     | Et logique (conjonction)      | `True and False`             | `False`               |\n",
        "| `or`      | Ou logique (disjonction)      | `True or False`              | `True`                |\n",
        "| `not`     | Négation logique              | `not True`                   | `False`               |\n",
        "| `is`      | Égalité d'identité             | `5 is 5`                     | `True`                |\n",
        "| `is not`  | Inégalité d'identité          | `5 is not 3`                 | `True`                |\n",
        "| `in`      | Appartenance à une séquence    | `\"a\" in \"apple\"`             | `True`                |\n",
        "| `not in`  | Non-appartenance à une séquence | `\"z\" not in \"zebra\"`         | `False`                |\n",
        "\n",
        "\n"
      ],
      "metadata": {
        "id": "8G1mO5Y7E4Ay"
      }
    },
    {
      "cell_type": "markdown",
      "source": [
        "\n",
        "<br><br><br>\n",
        "---\n",
        "\n",
        "\n",
        "---\n",
        "<br><br><br><br>\n",
        "\n",
        "\n"
      ],
      "metadata": {
        "id": "AGxkd4NJTuus"
      }
    },
    {
      "cell_type": "markdown",
      "source": [
        "# Instructions conditionnelles : if, elif, else\n",
        "Les instructions conditionnelles permettent d'exécuter du code en fonction d'une condition donnée.\n",
        "\n",
        "```\n",
        "if condition:\n",
        "    # code à exécuter si la condition est vraie\n",
        "elif autre_condition:\n",
        "    # code à exécuter si la première condition est fausse et que l'autre_condition est vraie\n",
        "else:\n",
        "    # code à exécuter si aucune des conditions précédentes n'est vraie\n",
        "```\n",
        "### Exemple :\n",
        "\n"
      ],
      "metadata": {
        "id": "PF9R4-l_Fjpd"
      }
    },
    {
      "cell_type": "code",
      "source": [
        "x = 10\n",
        "\n",
        "if x > 0:\n",
        "    print(\"x est positif\")\n",
        "elif x < 0:\n",
        "    print(\"x est négatif\")\n",
        "else:\n",
        "    print(\"x est égal à zéro\")"
      ],
      "metadata": {
        "colab": {
          "base_uri": "https://localhost:8080/"
        },
        "id": "ypI9S0XxGG9b",
        "outputId": "837f2c99-eda8-40ab-bbfc-77d8a80d5a19"
      },
      "execution_count": null,
      "outputs": [
        {
          "output_type": "stream",
          "name": "stdout",
          "text": [
            "x est positif\n"
          ]
        }
      ]
    },
    {
      "cell_type": "markdown",
      "source": [
        "\n",
        "<br><br><br>\n",
        "---\n",
        "\n",
        "\n",
        "---\n",
        "<br><br><br><br>\n",
        "\n",
        "\n"
      ],
      "metadata": {
        "id": "3O8XELeqUE2T"
      }
    },
    {
      "cell_type": "markdown",
      "source": [
        "# Boucles while\n",
        "La boucle while permet d'exécuter du code tant qu'une condition est vraie.\n",
        "\n",
        "```\n",
        "while condition:\n",
        "    # code à exécuter tant que la condition est vraie\n",
        "```\n",
        "### Exemple"
      ],
      "metadata": {
        "id": "M6t0psgmGMZl"
      }
    },
    {
      "cell_type": "code",
      "source": [
        "compteur = 0\n",
        "\n",
        "while compteur < 5:\n",
        "    print(\"Compteur :\", compteur)\n",
        "    compteur += 1"
      ],
      "metadata": {
        "colab": {
          "base_uri": "https://localhost:8080/"
        },
        "id": "FWb--2fyGZwn",
        "outputId": "7dfe2f33-40ed-467a-cf37-b365a35d5630"
      },
      "execution_count": null,
      "outputs": [
        {
          "output_type": "stream",
          "name": "stdout",
          "text": [
            "Compteur : 0\n",
            "Compteur : 1\n",
            "Compteur : 2\n",
            "Compteur : 3\n",
            "Compteur : 4\n"
          ]
        }
      ]
    },
    {
      "cell_type": "markdown",
      "source": [
        "\n",
        "<br><br><br>\n",
        "---\n",
        "\n",
        "\n",
        "---\n",
        "<br><br><br><br>\n",
        "\n",
        "\n"
      ],
      "metadata": {
        "id": "7aksaHzmUH56"
      }
    },
    {
      "cell_type": "markdown",
      "source": [
        "# Fonctions en Python\n",
        "Les fonctions sont des blocs de code réutilisables qui permettent d'effectuer une tâche spécifique.\n",
        "\n",
        "Elles sont essentielles pour structurer et organiser votre code, et facilitent la réutilisation et la maintenance.\n",
        "\n",
        "En Python, vous pouvez définir vos propres fonctions et utiliser des fonctions intégrées.\n",
        "\n",
        "### Définir et appeler des fonctions personnalisées\n",
        "Pour définir une fonction personnalisée, utilisez le mot-clé def suivi du nom de la fonction, d'une liste de paramètres entre parenthèses (facultatif) et de deux-points. Le code de la fonction est indenté sous la ligne de définition.\n",
        "\n",
        "```\n",
        "def nom_de_la_fonction():\n",
        "    # code de la fonction\n",
        "```\n",
        "### Exemple"
      ],
      "metadata": {
        "id": "1TxZmW6lHi0W"
      }
    },
    {
      "cell_type": "code",
      "source": [
        "def saluer():\n",
        "    print(\"Bonjour !\")\n",
        "\n",
        "# Appeler la fonction\n",
        "saluer()"
      ],
      "metadata": {
        "colab": {
          "base_uri": "https://localhost:8080/"
        },
        "id": "bMrcrmJCIS7p",
        "outputId": "cc772f3e-4229-4a38-da1d-8412017104dd"
      },
      "execution_count": null,
      "outputs": [
        {
          "output_type": "stream",
          "name": "stdout",
          "text": [
            "Bonjour !\n"
          ]
        }
      ]
    },
    {
      "cell_type": "markdown",
      "source": [
        "# Paramètres et arguments\n",
        "Lorsque vous définissez une fonction, vous pouvez spécifier des paramètres qui servent de variables d'entrée. Lors de l'appel de la fonction, vous fournissez des arguments qui sont les valeurs réelles passées aux paramètres.\n",
        "\n",
        "```\n",
        "def nom_de_la_fonction(parametre1, parametre2, ...):\n",
        "    # code de la fonction\n",
        "```\n",
        "### Exemple"
      ],
      "metadata": {
        "id": "eJNohDRyISVO"
      }
    },
    {
      "cell_type": "code",
      "source": [
        "def saluer(nom):\n",
        "    print(\"Bonjour, \" + nom + \" !\")\n",
        "\n",
        "# Appeler la fonction\n",
        "saluer(\"Alice\")"
      ],
      "metadata": {
        "colab": {
          "base_uri": "https://localhost:8080/"
        },
        "id": "3hoVDsNGJRlc",
        "outputId": "5d74d9ad-287c-4554-9d55-865db6175468"
      },
      "execution_count": null,
      "outputs": [
        {
          "output_type": "stream",
          "name": "stdout",
          "text": [
            "Bonjour, Alice !\n"
          ]
        }
      ]
    },
    {
      "cell_type": "markdown",
      "source": [
        "# Les retours de fonction\n",
        " L'instruction `return` permet de renvoyer un résultat en sortie de la fonction.\n",
        "\n",
        " exemple de l'utilisation :\n",
        "\n",
        " ```\n",
        " def fonction(parametre1, parametre2, ...):\n",
        "    resultat = parametre1 + parametre2 # Instructions de la fonction\n",
        "    return resultat\n",
        "\n",
        "une_var = fonction(1,2)\n",
        "print(une_var)\n",
        " ```\n",
        " Affiche `3` car `resultat` contient 3 et que `return resultat` renvoi la valeur de `resultat`.\n",
        "\n",
        " Comme il y a un return dans la fonction, on peut faire `une_var = fonction(1,2)`\n",
        "\n",
        "S'il n'y a pas de return dans la fonction et que l'on fait `une_var = fonction(1,2)` on affiche `None` (par défaut)\n",
        "\n",
        " ### Exemple"
      ],
      "metadata": {
        "id": "5r0_bRQXQpZp"
      }
    },
    {
      "cell_type": "code",
      "source": [
        "# Avec return\n",
        "def fonction(parametre1, parametre2):\n",
        "    resultat = parametre1 + parametre2 # Instructions de la fonction\n",
        "    return resultat\n",
        "\n",
        "une_var = fonction(1,2)\n",
        "print(une_var)"
      ],
      "metadata": {
        "colab": {
          "base_uri": "https://localhost:8080/"
        },
        "id": "ddx9JrVBSHYO",
        "outputId": "ac7fcbad-aba6-46a7-bf00-4f81c40a9862"
      },
      "execution_count": null,
      "outputs": [
        {
          "output_type": "stream",
          "name": "stdout",
          "text": [
            "3\n"
          ]
        }
      ]
    },
    {
      "cell_type": "code",
      "source": [
        "# Sans return\n",
        "def fonction(parametre1, parametre2):\n",
        "    resultat = parametre1 + parametre2 # Instructions de la fonction\n",
        "\n",
        "une_var = fonction(1,2)\n",
        "print(une_var)"
      ],
      "metadata": {
        "colab": {
          "base_uri": "https://localhost:8080/"
        },
        "id": "qoXBZOw6SiAd",
        "outputId": "5b48d1bb-9ffc-4afd-d2cd-e32722a828e0"
      },
      "execution_count": null,
      "outputs": [
        {
          "output_type": "stream",
          "name": "stdout",
          "text": [
            "None\n"
          ]
        }
      ]
    },
    {
      "cell_type": "markdown",
      "source": [
        "\n",
        "<br><br><br>\n",
        "---\n",
        "\n",
        "\n",
        "---\n",
        "<br><br><br><br>\n",
        "\n",
        "\n"
      ],
      "metadata": {
        "id": "AR0bykj-UMbL"
      }
    },
    {
      "cell_type": "markdown",
      "source": [
        "# Listes en Python\n",
        "Les listes sont des tableaux ordonnées et modifiables d'éléments en Python.\n",
        "\n",
        "Elles permettent de stocker et de manipuler des données de différents types (entiers, chaînes de caractères, listes imbriquées, etc.).\n",
        "\n",
        "## Créer des listes\n",
        "Pour créer une liste, utilisez des crochets `[]` et séparez les éléments par des virgules.\n",
        "\n",
        "### Exemple"
      ],
      "metadata": {
        "id": "9QEQHkwhJRI8"
      }
    },
    {
      "cell_type": "code",
      "source": [
        "ma_liste = [1, 2, 3, \"Python\", True]\n",
        "\n",
        "print(ma_liste)"
      ],
      "metadata": {
        "colab": {
          "base_uri": "https://localhost:8080/"
        },
        "id": "-HdccQEnKasy",
        "outputId": "ad6c2057-1b00-4664-d6dd-b2df398bcb62"
      },
      "execution_count": null,
      "outputs": [
        {
          "output_type": "stream",
          "name": "stdout",
          "text": [
            "[1, 2, 3, 'Python', True]\n"
          ]
        }
      ]
    },
    {
      "cell_type": "markdown",
      "source": [
        "# Accéder aux éléments d'une liste\n",
        "Vous pouvez accéder aux éléments d'une liste en utilisant leur indice.\n",
        "\n",
        "**Les indices commencent à 0 pour le premier élément.**\n",
        "\n",
        "### Exemple"
      ],
      "metadata": {
        "id": "ckUOTn5wKgVP"
      }
    },
    {
      "cell_type": "code",
      "source": [
        "ma_liste = [1, 2, 3, \"Python\", True]\n",
        "premier_element = ma_liste[0]\n",
        "\n",
        "print(premier_element)"
      ],
      "metadata": {
        "colab": {
          "base_uri": "https://localhost:8080/"
        },
        "id": "QF_SpfZGKt9e",
        "outputId": "8a6d1bdb-700c-4359-e710-38e72dd8ec06"
      },
      "execution_count": null,
      "outputs": [
        {
          "output_type": "stream",
          "name": "stdout",
          "text": [
            "1\n"
          ]
        }
      ]
    },
    {
      "cell_type": "markdown",
      "source": [
        "# Modifier des éléments d'une liste\n",
        "Vous pouvez modifier les éléments d'une liste en affectant une nouvelle valeur à un indice spécifique.\n",
        "### Exemple"
      ],
      "metadata": {
        "id": "7HsXZtkpK5El"
      }
    },
    {
      "cell_type": "code",
      "source": [
        "ma_liste = [1, 2, 3, \"Python\", True]\n",
        "ma_liste[2] = 4  # ma_liste vaut maintenant [1, 2, 4, \"Python\", True]\n",
        "\n",
        "print(ma_liste)"
      ],
      "metadata": {
        "colab": {
          "base_uri": "https://localhost:8080/"
        },
        "id": "-Me8_2QyK9m3",
        "outputId": "b6072840-2ea3-421b-f06f-8a1e3baf1bc8"
      },
      "execution_count": null,
      "outputs": [
        {
          "output_type": "stream",
          "name": "stdout",
          "text": [
            "[1, 2, 4, 'Python', True]\n"
          ]
        }
      ]
    },
    {
      "cell_type": "markdown",
      "source": [
        "# Ajouter et supprimer des éléments d'une liste\n",
        "Ajouter un élément à la fin d'une liste : `append()`\n",
        "\n",
        "Ajouter un élément à une position spécifique `insert()`\n",
        "\n",
        "Supprimer un élément par sa valeur : `remove()`\n",
        "\n",
        "Supprimer un élément par son indice : `pop()`\n",
        "### Exemple"
      ],
      "metadata": {
        "id": "rqsTlFJrLIwI"
      }
    },
    {
      "cell_type": "code",
      "source": [
        "ma_liste = [2, 1, 2, 3]\n",
        "\n",
        "ma_liste.append(4)  # ma_liste vaut maintenant [2, 1, 2, 3, 4]\n",
        "ma_liste.insert(1, \"Python\")  # ma_liste vaut maintenant [2, 'Python', 1, 2, 3, 4]\n",
        "ma_liste.remove(2)  # supprime la première occurrence de 2\n",
        "ma_liste.pop(0)  # supprime le premier élément (ici \"Python\")\n",
        "\n",
        "print(ma_liste)"
      ],
      "metadata": {
        "colab": {
          "base_uri": "https://localhost:8080/"
        },
        "id": "dptmrNgsLPqn",
        "outputId": "83c4d861-6622-417f-d872-f4b295b42f71"
      },
      "execution_count": null,
      "outputs": [
        {
          "output_type": "stream",
          "name": "stdout",
          "text": [
            "[1, 2, 3, 4]\n"
          ]
        }
      ]
    },
    {
      "cell_type": "markdown",
      "source": [
        "# Boucles for\n",
        "La boucle for permet d'itérer sur une séquence (liste, chaîne de caractères, etc.) et d'exécuter du code pour chaque élément de la séquence.\n",
        "\n",
        "```\n",
        "for element in sequence:\n",
        "    # code à exécuter pour chaque élément de la séquence\n",
        "```\n",
        "### Exemple"
      ],
      "metadata": {
        "id": "NFDeQn57G5FU"
      }
    },
    {
      "cell_type": "code",
      "source": [
        "ma_liste = [1, 2, 3, \"Python\", True]\n",
        "\n",
        "for element in ma_liste:\n",
        "    print(element)"
      ],
      "metadata": {
        "colab": {
          "base_uri": "https://localhost:8080/"
        },
        "id": "5P-lvoxQHDj-",
        "outputId": "8751ba8b-4031-466a-be81-83b1499fcb58"
      },
      "execution_count": null,
      "outputs": [
        {
          "output_type": "stream",
          "name": "stdout",
          "text": [
            "J'aime les pomme\n",
            "J'aime les banane\n",
            "J'aime les orange\n"
          ]
        }
      ]
    },
    {
      "cell_type": "markdown",
      "source": [
        "# Fonctions utiles pour les listes\n",
        "`len(liste)` : renvoie la longueur de la liste (nombre d'éléments)\n",
        "\n",
        "`sorted(liste)` : renvoie une nouvelle liste triée (ne modifie pas la liste originale)\n",
        "\n",
        "`liste.sort()` : trie la liste en place (modifie la liste originale)\n",
        "\n",
        "`liste.reverse()` : inverse l'ordre des éléments de la liste en place\n",
        "\n",
        "`liste.count(element)` : renvoie le nombre d'occurrences d'un élément dans la liste\n",
        "\n",
        "`liste.index(element)` : renvoie l'indice de la première occurrence d'un élément dans la liste\n",
        "### Exemple"
      ],
      "metadata": {
        "id": "sYNGERD8NL78"
      }
    },
    {
      "cell_type": "code",
      "source": [
        "ma_liste = [3, 1, 2, 5, -1, 3]\n",
        "\n",
        "longueur = len(ma_liste)  # longueur vaut 6\n",
        "nouvelle_liste = sorted(ma_liste)  # nouvelle_liste vaut [-1, 1, 2, 3, 3, 5]\n",
        "ma_liste.sort()  # ma_liste vaut maintenant [-1, 1, 2, 3, 3, 5]\n",
        "ma_liste.reverse()  # ma_liste vaut maintenant [5, 3, 3, 2, 1, -1]\n",
        "occurrences = ma_liste.count(3)  # occurrences vaut 2\n",
        "indice = ma_liste.index(-1)  # indice vaut 5 (et non pas 6 !)\n",
        "\n",
        "print(longueur)\n",
        "print(nouvelle_liste)\n",
        "print(ma_liste)\n",
        "print(occurrences)\n",
        "print(indice)"
      ],
      "metadata": {
        "colab": {
          "base_uri": "https://localhost:8080/"
        },
        "id": "PLTdmW9INi5a",
        "outputId": "45b7fc53-9da9-4902-855f-b98264725bed"
      },
      "execution_count": null,
      "outputs": [
        {
          "output_type": "stream",
          "name": "stdout",
          "text": [
            "6\n",
            "[-1, 1, 2, 3, 3, 5]\n",
            "[5, 3, 3, 2, 1, -1]\n",
            "2\n",
            "5\n"
          ]
        }
      ]
    },
    {
      "cell_type": "markdown",
      "source": [
        "\n",
        "<br><br><br>\n",
        "---\n",
        "\n",
        "\n",
        "---\n",
        "<br><br><br><br>\n",
        "\n",
        "\n"
      ],
      "metadata": {
        "id": "qYEDx78-UPYI"
      }
    },
    {
      "cell_type": "markdown",
      "source": [
        "# Introduction aux bibliothèques et modules en Python\n",
        "Les bibliothèques et les modules en Python sont des collections de fonctions, de classes et de constantes prédéfinies qui vous permettent d'effectuer des tâches spécifiques plus facilement.\n",
        "\n",
        "Ils peuvent être créés par des développeurs Python ou fournis avec l'installation de Python (bibliothèque standard).\n",
        "\n",
        "## Importer un module\n",
        "Pour utiliser un module, vous devez d'abord l'importer dans votre script en utilisant le mot-clé import.\n",
        "\n",
        "```\n",
        "import math\n",
        "```\n",
        "\n",
        "Une fois le module importé, vous pouvez accéder à ses fonctions et constantes en utilisant le nom du module suivi d'un point et du nom de la fonction ou de la constante.\n",
        "\n",
        "### Exemple"
      ],
      "metadata": {
        "id": "kJ0l1n2WPrde"
      }
    },
    {
      "cell_type": "code",
      "source": [
        "import math\n",
        "\n",
        "racine_carree = math.sqrt(16)  # racine_carree vaut 4.0\n",
        "\n",
        "print(racine_carree)"
      ],
      "metadata": {
        "colab": {
          "base_uri": "https://localhost:8080/"
        },
        "id": "QztdMPA7QFLl",
        "outputId": "4eeec334-d390-43b8-eb0b-ebf2d8a463f0"
      },
      "execution_count": null,
      "outputs": [
        {
          "output_type": "stream",
          "name": "stdout",
          "text": [
            "4.0\n"
          ]
        }
      ]
    },
    {
      "cell_type": "markdown",
      "source": [
        "# Importer des fonctions spécifiques d'un module\n",
        "Vous pouvez importer uniquement les fonctions dont vous avez besoin en utilisant la syntaxe `from 'nom module' import 'nom fonction'`.\n",
        "\n",
        "```\n",
        "from math import sqrt\n",
        "```\n",
        "\n",
        "# Importer toutes les fonctions d'un module (à éviter)\n",
        "Il est possible d'importer toutes les fonctions d'un module en utilisant la syntaxe from module import *.\n",
        "\n",
        "Cependant, cette pratique est généralement déconseillée, car elle peut entraîner des conflits de noms (si identiques) et rendre le code moins lisible.\n",
        "\n",
        "```\n",
        "from math import *\n",
        "```\n",
        "### Exemple"
      ],
      "metadata": {
        "id": "nVI6_QRTQOtQ"
      }
    },
    {
      "cell_type": "code",
      "source": [
        "from math import *\n",
        "\n",
        "racine_carree = sqrt(16)  # racine_carree vaut 4.0\n",
        "\n",
        "print(racine_carree)"
      ],
      "metadata": {
        "colab": {
          "base_uri": "https://localhost:8080/"
        },
        "id": "aKAmkGv4RMHi",
        "outputId": "69ecc9f5-6528-4958-989c-32ad4522964e"
      },
      "execution_count": null,
      "outputs": [
        {
          "output_type": "stream",
          "name": "stdout",
          "text": [
            "4.0\n"
          ]
        }
      ]
    },
    {
      "cell_type": "code",
      "source": [
        "from math import sqrt\n",
        "\n",
        "racine_carree = sqrt(16)  # racine_carree vaut 4.0\n",
        "\n",
        "print(racine_carree)"
      ],
      "metadata": {
        "colab": {
          "base_uri": "https://localhost:8080/"
        },
        "id": "XyAxSrM1RQex",
        "outputId": "9c875c5a-7500-4573-8acd-f7e9dad62982"
      },
      "execution_count": null,
      "outputs": [
        {
          "output_type": "stream",
          "name": "stdout",
          "text": [
            "4.0\n"
          ]
        }
      ]
    },
    {
      "cell_type": "code",
      "source": [
        "from math import *\n",
        "\n",
        "def sqrt(nombre):\n",
        "    return -1\n",
        "\n",
        "print(sqrt(16)) #fonction math.sqrt remplacée par le def sqrt !!!!\n",
        "print(math.sqrt(16)) #fonction sqrt de math"
      ],
      "metadata": {
        "colab": {
          "base_uri": "https://localhost:8080/"
        },
        "id": "1B6yzss6RXx4",
        "outputId": "a0b927e2-3026-44c3-82dc-39915cc047ab"
      },
      "execution_count": null,
      "outputs": [
        {
          "output_type": "stream",
          "name": "stdout",
          "text": [
            "-1\n",
            "4.0\n"
          ]
        }
      ]
    },
    {
      "cell_type": "markdown",
      "source": [
        "**Donc : utilisez module.fonction !**\n",
        "\n",
        "## Modules couramment utilisés"
      ],
      "metadata": {
        "id": "td7egvcCRwTl"
      }
    },
    {
      "cell_type": "code",
      "source": [
        "import math\n",
        "\n",
        "puissance = math.pow(2, 8)  # puissance vaut 256\n",
        "\n",
        "print(puissance)"
      ],
      "metadata": {
        "colab": {
          "base_uri": "https://localhost:8080/"
        },
        "id": "1p04lryISh47",
        "outputId": "a2a6078b-fb23-47b0-b6eb-569d95bba1ae"
      },
      "execution_count": null,
      "outputs": [
        {
          "output_type": "stream",
          "name": "stdout",
          "text": [
            "256.0\n"
          ]
        }
      ]
    },
    {
      "cell_type": "code",
      "source": [
        "import random\n",
        "\n",
        "nombre_aleatoire = random.randint(1, 10)  # génère un entier aléatoire entre 1 et 10\n",
        "\n",
        "print(nombre_aleatoire)"
      ],
      "metadata": {
        "colab": {
          "base_uri": "https://localhost:8080/"
        },
        "id": "kn015r1JSkMq",
        "outputId": "dba48000-ee15-4297-b53e-62b2ca8bf45e"
      },
      "execution_count": null,
      "outputs": [
        {
          "output_type": "stream",
          "name": "stdout",
          "text": [
            "8\n"
          ]
        }
      ]
    },
    {
      "cell_type": "code",
      "source": [
        "from datetime import datetime\n",
        "\n",
        "date_actuelle = datetime.now()\n",
        "print(\"Date et heure actuelles :\", date_actuelle)"
      ],
      "metadata": {
        "colab": {
          "base_uri": "https://localhost:8080/"
        },
        "id": "przxCAzxSmgt",
        "outputId": "9e1c5de9-a8ad-4c7c-d2f8-8fd160596a80"
      },
      "execution_count": null,
      "outputs": [
        {
          "output_type": "stream",
          "name": "stdout",
          "text": [
            "Date et heure actuelles : 2024-03-16 17:24:04.793946\n"
          ]
        }
      ]
    },
    {
      "cell_type": "markdown",
      "source": [
        "\n",
        "<br><br><br>\n",
        "---\n",
        "\n",
        "\n",
        "---\n",
        "<br><br><br><br>\n",
        "\n",
        "\n"
      ],
      "metadata": {
        "id": "FYQ6oxD1UQzN"
      }
    }
  ]
}