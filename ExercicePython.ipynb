{
  "nbformat": 4,
  "nbformat_minor": 0,
  "metadata": {
    "colab": {
      "provenance": [],
      "toc_visible": true
    },
    "kernelspec": {
      "name": "python3",
      "display_name": "Python 3"
    },
    "language_info": {
      "name": "python"
    }
  },
  "cells": [
    {
      "cell_type": "markdown",
      "source": [
        "## Exercice 1 : Calcul de Moyenne\n",
        "Écrivez un programme qui calcule la moyenne de trois nombres saisis par l'utilisateur et affiche le résultat."
      ],
      "metadata": {
        "id": "6zU1yHguIi5O"
      }
    },
    {
      "cell_type": "code",
      "source": [
        "# CODE ICI"
      ],
      "metadata": {
        "id": "MOFkAfGzIpGd"
      },
      "execution_count": null,
      "outputs": []
    },
    {
      "cell_type": "markdown",
      "source": [
        "## Exercice 2 : Table de Multiplication\n",
        "Écrivez un programme qui demande à l'utilisateur de saisir un nombre, puis affiche la table de multiplication de ce nombre de 1 à 10."
      ],
      "metadata": {
        "id": "fd-BYlGHJBoT"
      }
    },
    {
      "cell_type": "code",
      "source": [
        "# CODE ICI"
      ],
      "metadata": {
        "id": "J_NgEys_JEe0"
      },
      "execution_count": null,
      "outputs": []
    },
    {
      "cell_type": "markdown",
      "source": [
        "## Exercice 3 : Addition de Nombres\n",
        "Écrivez un programme qui demande à l'utilisateur de saisir une série de 3 nombres et affiche la somme de ces nombres."
      ],
      "metadata": {
        "id": "iputHUNGIxhc"
      }
    },
    {
      "cell_type": "code",
      "source": [
        "# CODE ICI"
      ],
      "metadata": {
        "id": "LGpfyfUqI18e"
      },
      "execution_count": null,
      "outputs": []
    },
    {
      "cell_type": "markdown",
      "source": [
        "## Exercice 4 : Calcul de l'aire d'un Rectangle\n",
        "Écrivez un programme qui demande à l'utilisateur de saisir la longueur et la largeur d'un rectangle, puis calcule et affiche l'aire du rectangle."
      ],
      "metadata": {
        "id": "Pv3-2-5sJI_e"
      }
    },
    {
      "cell_type": "code",
      "source": [
        "# CODE ICI"
      ],
      "metadata": {
        "id": "PANsVl3gJJdW"
      },
      "execution_count": null,
      "outputs": []
    },
    {
      "cell_type": "markdown",
      "source": [
        "\n",
        "<br><br><br><br>\n",
        "--- ---\n",
        "<br><br><br><br>\n",
        "\n",
        "\n"
      ],
      "metadata": {
        "id": "5SMwrg8zJNQM"
      }
    },
    {
      "cell_type": "markdown",
      "source": [
        "## Exercice 5 : Check des Notes\n",
        "Écrire un programme qui demande à l'utilisateur de saisir une note entre 0 et 20 et qui affiche \"Très bien\" si la note est supérieure ou égale à 16, \"Bien\" si la note est supérieure ou égale à 12 et inférieure à 16, \"Moyen\" si la note est supérieure ou égale à 8 et inférieure à 12, \"Insuffisant\" si la note est inférieure à 8."
      ],
      "metadata": {
        "id": "amR3TIGXKqaR"
      }
    },
    {
      "cell_type": "code",
      "source": [
        "# CODE ICI"
      ],
      "metadata": {
        "id": "FK2kDBTaKqzt"
      },
      "execution_count": null,
      "outputs": []
    },
    {
      "cell_type": "markdown",
      "source": [
        "## Exercice 6 : Vérification de Parité\n",
        "Écrivez un programme qui demande à l'utilisateur de saisir un nombre entier, puis affiche si le nombre est pair ou impair.\n",
        "\n",
        "Utilisez les différentes divisions (/, // et %)\n"
      ],
      "metadata": {
        "id": "WfzpZcATIpv0"
      }
    },
    {
      "cell_type": "code",
      "source": [
        "# CODE ICI"
      ],
      "metadata": {
        "id": "Ca1wY0EzIuJE"
      },
      "execution_count": null,
      "outputs": []
    },
    {
      "cell_type": "markdown",
      "source": [
        "## Exercice 7 : Triangle rectangle\n",
        "\n",
        "Écrire un programme qui demande à l'utilisateur de saisir trois nombres et qui affiche \"Triangle rectangle\" si les trois nombres peuvent former un triangle rectangle (c'est-à-dire si le carré du plus grand côté est égal à la somme des carrés des deux autres côtés), \"Triangle non rectangle\" sinon."
      ],
      "metadata": {
        "id": "kNa7pU6rK-Xh"
      }
    },
    {
      "cell_type": "code",
      "source": [
        "# CODE ICI"
      ],
      "metadata": {
        "id": "1aNsNiTjL1XJ"
      },
      "execution_count": null,
      "outputs": []
    },
    {
      "cell_type": "markdown",
      "source": [
        "## Exercice 8 : Année bissextile\n",
        "Écrire un programme qui demande à l'utilisateur de saisir une variable année et qui affiche \"Bissextile\" si l'année est bissextile, \"Pas bissextile\" sinon.\n",
        "\n",
        "Rappel : une année est bissextile si elle est divisible par 4 mais pas par 100, ou si elle est divisible par 400. Attention : il faut vérifier que la date saisie est valide (par exemple, le mois doit être compris entre 1 et 12 et le jour doit être compris entre 1 et le nombre de jours du mois en question)."
      ],
      "metadata": {
        "id": "-4C7kyqIL8ir"
      }
    },
    {
      "cell_type": "code",
      "source": [
        "# CODE ICI"
      ],
      "metadata": {
        "id": "0vJTduElL9Z3"
      },
      "execution_count": null,
      "outputs": []
    },
    {
      "cell_type": "markdown",
      "source": [
        "\n",
        "<br><br><br><br>\n",
        "--- ---\n",
        "<br><br><br><br>\n",
        "\n",
        "\n"
      ],
      "metadata": {
        "id": "A55T7i6GOunu"
      }
    },
    {
      "cell_type": "markdown",
      "source": [
        "## Exercice 9 : Nombres paires\n",
        "\n",
        "Écrire un programme qui affiche les nombres pairs compris entre 0 et 100 en utilisant une boucle while."
      ],
      "metadata": {
        "id": "ETsOwO8vNTBO"
      }
    },
    {
      "cell_type": "code",
      "source": [
        "# CODE ICI"
      ],
      "metadata": {
        "id": "tPmc_UK-NSbd"
      },
      "execution_count": null,
      "outputs": []
    },
    {
      "cell_type": "markdown",
      "source": [
        "## Exercice 10 : Mot de passe\n",
        "\n",
        "Écrire un programme qui demande à l'utilisateur de saisir un mot de passe et qui vérifie si le mot de passe saisi est correct (par exemple \"secret\"). Le programme doit continuer à demander le mot de passe jusqu'à ce que l'utilisateur saisisse le bon mot de passe."
      ],
      "metadata": {
        "id": "FClK7HIFNgIq"
      }
    },
    {
      "cell_type": "code",
      "source": [
        "# CODE ICI"
      ],
      "metadata": {
        "id": "c2Nn5JHrNge9"
      },
      "execution_count": null,
      "outputs": []
    },
    {
      "cell_type": "markdown",
      "source": [
        "## Exercice 11 : Fibonacci\n",
        "Écrire un programme qui demande à l'utilisateur de saisir un nombre et qui affiche la suite de Fibonacci jusqu'à ce que le nombre saisi soit atteint en utilisant une boucle while.\n",
        "\n",
        "La suite de Fibonacci est définie comme suit : les deux premiers termes sont 0 et 1, et chaque terme suivant est la somme des deux termes précédents. Par exemple, si l'utilisateur saisit le nombre 10, le programme doit afficher la suite suivante : 0, 1, 1, 2, 3, 5, 8."
      ],
      "metadata": {
        "id": "bJXupszjOHrC"
      }
    },
    {
      "cell_type": "code",
      "source": [
        "# CODE ICI"
      ],
      "metadata": {
        "id": "akWw7NSnOH9v"
      },
      "execution_count": null,
      "outputs": []
    },
    {
      "cell_type": "markdown",
      "source": [
        "## Exercice 12 : Calcul de Moyenne V2\n",
        "Écrivez un programme qui calcule la moyenne de X notes saisis par l'utilisateur et affiche le résultat.\n",
        "\n",
        "Le nombre de notes à saisir X doit aussi être saisi par l'utilisateur."
      ],
      "metadata": {
        "id": "5sv1l8o_OISY"
      }
    },
    {
      "cell_type": "code",
      "source": [
        "# CODE ICI"
      ],
      "metadata": {
        "id": "02yeroFdOInH"
      },
      "execution_count": null,
      "outputs": []
    },
    {
      "cell_type": "markdown",
      "source": [
        "\n",
        "<br><br><br><br>\n",
        "--- ---\n",
        "<br><br><br><br>\n",
        "\n",
        "\n"
      ],
      "metadata": {
        "id": "jA3u0M8tPn7p"
      }
    },
    {
      "cell_type": "markdown",
      "source": [
        "## Exercice 13 : Parité V2\n",
        "Écrire une fonction `Est_Pair(nombre)` qui prend en paramètre un nombre et qui affiche \"Pair\" si le nombre est pair et \"Impair\" sinon."
      ],
      "metadata": {
        "id": "lHnX2BPHPoM5"
      }
    },
    {
      "cell_type": "code",
      "source": [
        "# CODE ICI"
      ],
      "metadata": {
        "id": "M50tJ7dtPodE"
      },
      "execution_count": null,
      "outputs": []
    },
    {
      "cell_type": "markdown",
      "source": [
        "## Exercice 14 : Calcule du plus grand\n",
        "Écrire une fonction `Plus_Grand(nombre1, nombre2)` qui prend en paramètres deux nombres et qui renvoie le plus grand des deux nombres. Si les deux nombres sont égaux, la fonction doit renvoyer \"Les deux nombres sont égaux\"."
      ],
      "metadata": {
        "id": "iInTpodYQLgg"
      }
    },
    {
      "cell_type": "code",
      "source": [
        "# CODE ICI"
      ],
      "metadata": {
        "id": "-dqQ0xHHQLxA"
      },
      "execution_count": null,
      "outputs": []
    },
    {
      "cell_type": "markdown",
      "source": [
        "## Exercice 15 : Factorielle\n",
        "Écrire une fonction `Factorielle(nombre)` qui prend en paramètre un nombre et qui renvoie sa factorielle.\n",
        "\n",
        "La factorielle d'un nombre entier n est le produit des nombres entiers strictement positifs inférieurs ou égaux à n.\n",
        "\n",
        "Par exemple, la factorielle de 5 est égale à 1x2x3x4x5=120."
      ],
      "metadata": {
        "id": "q9q7ZbKMQMA8"
      }
    },
    {
      "cell_type": "code",
      "source": [
        "# CODE ICI"
      ],
      "metadata": {
        "id": "NwE79WwGQMWQ"
      },
      "execution_count": null,
      "outputs": []
    },
    {
      "cell_type": "markdown",
      "source": [
        "## Exercice 16 : Conversion de température\n",
        "\n",
        "Créez une fonction `Celsius_vers_fahrenheit(celsius)` qui prend en paramètre une température en degrés Celsius et renvoie la température équivalente en degrés Fahrenheit. Utilisez la formule F = C * 9/5 + 32."
      ],
      "metadata": {
        "id": "VSsQrEtBQNry"
      }
    },
    {
      "cell_type": "code",
      "source": [
        "# CODE ICI"
      ],
      "metadata": {
        "id": "lTLilFQrQN7C"
      },
      "execution_count": null,
      "outputs": []
    },
    {
      "cell_type": "markdown",
      "source": [
        "\n",
        "<br><br><br><br>\n",
        "--- ---\n",
        "<br><br><br><br>\n",
        "\n",
        "\n"
      ],
      "metadata": {
        "id": "EK9UVOySQPNu"
      }
    },
    {
      "cell_type": "markdown",
      "source": [
        "## Exercice 17 : Calcul de Moyenne V3\n",
        "\n",
        "Écrire une fonction `Moyenne_V3(liste_de_notes)` qui prend en paramètre une liste de nombres et qui renvoie la moyenne de ces nombres."
      ],
      "metadata": {
        "id": "rh28oA3AUqp_"
      }
    },
    {
      "cell_type": "code",
      "source": [
        "# CODE ICI"
      ],
      "metadata": {
        "id": "GvKwxNCyUq7W"
      },
      "execution_count": null,
      "outputs": []
    },
    {
      "cell_type": "markdown",
      "source": [
        "## Exercice 18 : Nombre Paire\n",
        "Écrire une fonction `Nombre_de_paires` qui prend en paramètre une liste de nombres et qui renvoie le nombre de nombres pairs dans cette liste."
      ],
      "metadata": {
        "id": "Lc8EMvCYVSnY"
      }
    },
    {
      "cell_type": "code",
      "source": [
        "# CODE ICI"
      ],
      "metadata": {
        "id": "C53N_LQlVS94"
      },
      "execution_count": null,
      "outputs": []
    },
    {
      "cell_type": "markdown",
      "source": [
        "## Exercice 19 : Maximum d'une liste\n",
        "Écrire un programme qui demande à l'utilisateur de saisir une liste de nombres et qui affiche le plus grand nombre de la liste.\n",
        "\n",
        "La liste est remplie avec un `while`.\n",
        "Le nombre de valeur de la liste est aussi demandé à l'utilisateur."
      ],
      "metadata": {
        "id": "ag7yMqu2VTJO"
      }
    },
    {
      "cell_type": "code",
      "source": [
        "# CODE ICI"
      ],
      "metadata": {
        "id": "UC_5OZiXVTcy"
      },
      "execution_count": null,
      "outputs": []
    },
    {
      "cell_type": "markdown",
      "source": [
        "## Exercice 20 : Réutilisation de fonction\n",
        "Écrire un programme qui demande à l'utilisateur de saisir une liste de nombres et qui supprime tous les nombres pairs de la liste.\n",
        "\n",
        "La verification de parité doit utiliser une fonction `Est_PairV2(nombre)`"
      ],
      "metadata": {
        "id": "ROMBwUawVUYs"
      }
    },
    {
      "cell_type": "code",
      "source": [
        "def Est_PairV2(nombre):\n",
        "    return # CODE ICI\n",
        "\n",
        "def supprimer_pairs(liste):\n",
        "    # CODE ICI\n",
        "\n",
        "\n",
        "supprimer_pairs(...)\n",
        "print(...)"
      ],
      "metadata": {
        "id": "mD3l_IpVVUnx"
      },
      "execution_count": null,
      "outputs": []
    },
    {
      "cell_type": "markdown",
      "source": [
        "\n",
        "<br><br><br><br>\n",
        "--- ---\n",
        "<br><br><br><br>\n",
        "\n",
        "\n"
      ],
      "metadata": {
        "id": "owz_vFg5WhGc"
      }
    },
    {
      "cell_type": "markdown",
      "source": [
        "## Exercice 21 : Test de l'importation de module\n",
        "Écrire un programme qui utilise le module `math` pour calculer la racine carrée et le carré d'un nombre saisi par l'utilisateur."
      ],
      "metadata": {
        "id": "Qgtoi7ebWhdC"
      }
    },
    {
      "cell_type": "code",
      "source": [
        "# CODE ICI"
      ],
      "metadata": {
        "id": "lscghsBgWhwH"
      },
      "execution_count": null,
      "outputs": []
    },
    {
      "cell_type": "markdown",
      "source": [
        "## Exercice 22 : Jeu de devinette\n",
        "Écrire un programme qui génère un nombre aléatoire avec `random.randint(1, 100)` entre 1 et 100 et qui demande à l'utilisateur de deviner ce nombre.\n",
        "\n",
        "Le programme doit indiquer à l'utilisateur si son nombre est trop petit ou trop grand et continuer à demander jusqu'à ce que l'utilisateur trouve le bon nombre.\n",
        "\n",
        "Le programme doit afficher le nombre de tentatives effectuées par l'utilisateur.\n",
        "\n",
        "Voici un exemple d'exécution du programme :\n",
        "\n",
        "    Le nombre à deviner est compris entre 1 et 100.\n",
        "    Entrez un nombre : 50\n",
        "    Trop petit !\n",
        "    Entrez un nombre : 75\n",
        "    Trop grand !\n",
        "    Entrez un nombre : 62\n",
        "    Trop petit !\n",
        "    Entrez un nombre : 68\n",
        "    Trop grand !\n",
        "    Entrez un nombre : 65\n",
        "    Trop petit !\n",
        "    Entrez un nombre : 66\n",
        "    Trop grand !\n",
        "    Entrez un nombre : 65\n",
        "    Bravo, vous avez trouvé le nombre en 7 tentatives !"
      ],
      "metadata": {
        "id": "-wuNmivbX4Sx"
      }
    },
    {
      "cell_type": "code",
      "source": [
        "# CODE ICI"
      ],
      "metadata": {
        "id": "oCdiudyjX4ng"
      },
      "execution_count": null,
      "outputs": []
    },
    {
      "cell_type": "markdown",
      "source": [
        "**En plus :**\n",
        "\n",
        "Le programme doit afficher le temps écoulé entre le début et la fin du jeu avec `time.time()`.\n",
        "\n",
        "Voici un exemple de fin d'exécution du programme :\n",
        "\n",
        "    ... le même jeu ...\n",
        "    Temps écoulé : 35.21 secondes"
      ],
      "metadata": {
        "id": "H7jfmZfdYqFl"
      }
    },
    {
      "cell_type": "code",
      "source": [
        "# CODE ICI"
      ],
      "metadata": {
        "id": "hepUXQ4CYq8E"
      },
      "execution_count": null,
      "outputs": []
    },
    {
      "cell_type": "markdown",
      "source": [
        "\n",
        "<br><br><br><br>\n",
        "--- ---\n",
        "<br><br><br><br>\n",
        "\n",
        "\n"
      ],
      "metadata": {
        "id": "lcjykMIAaD9_"
      }
    },
    {
      "cell_type": "markdown",
      "source": [
        "## Jeu de Nime\n",
        "Dans ce jeu, deux joueurs s'affrontent en retirant tour à tour un ou plusieurs allumettes d'un tas. Le joueur qui retire la dernière allumette perd la partie.\n",
        "\n",
        "Voici un exercice guidé pour réaliser ce jeu en Python :\n",
        "\n",
        "- Créer une variable nb_allumettes initialisée à 20 (ou toute autre valeur de votre choix).\n",
        "\n",
        "- Créer une variable joueur initialisée à 1.\n",
        "\n",
        "- Créer une boucle while qui continue tant que nb_allumettes est supérieur à 0.\n",
        "\n",
        "- Dans la boucle, afficher le nombre d'allumettes restantes et demander au joueur actuel de retirer un ou plusieurs allumettes.\n",
        "\n",
        "- Vérifier que le nombre d'allumettes retirées est compris entre 1 et 3 (ou toute autre valeur de votre choix).\n",
        "\n",
        "- Si ce n'est pas le cas, afficher un message d'erreur et redemander au joueur de saisir un nombre valide.\n",
        "\n",
        "- Retirer le nombre d'allumettes saisi par le joueur du tas.\n",
        "Passer au joueur suivant en alternant la valeur de la variable joueur entre 1 et 2.\n",
        "\n",
        "- À la fin de la boucle, afficher un message indiquant quel joueur a gagné la partie.\n",
        "\n",
        "Voici un exemple d'exécution du programme :\n",
        "\n",
        "    Il reste 20 allumettes.\n",
        "    Joueur 1, combien d'allumettes voulez-vous retirer (1, 2 ou 3) ? 4\n",
        "    Nombre invalide d'allumettes ! Veuillez choisir à nouveau.\n",
        "    Joueur 1, combien d'allumettes voulez-vous retirer (1, 2 ou 3) ? 4\n",
        "    Nombre invalide d'allumettes ! Veuillez choisir à nouveau.\n",
        "    Joueur 1, combien d'allumettes voulez-vous retirer (1, 2 ou 3) ? 0\n",
        "    Nombre invalide d'allumettes ! Veuillez choisir à nouveau.\n",
        "    Joueur 1, combien d'allumettes voulez-vous retirer (1, 2 ou 3) ? -1\n",
        "    Nombre invalide d'allumettes ! Veuillez choisir à nouveau.\n",
        "    Joueur 1, combien d'allumettes voulez-vous retirer (1, 2 ou 3) ? 3\n",
        "    Il reste 17 allumettes.\n",
        "    Joueur 2, combien d'allumettes voulez-vous retirer (1, 2 ou 3) ? 2\n",
        "    Il reste 15 allumettes.\n",
        "    Joueur 2, combien d'allumettes voulez-vous retirer (1, 2 ou 3) ? 3\n",
        "    Il reste 12 allumettes.\n",
        "    Joueur 2, combien d'allumettes voulez-vous retirer (1, 2 ou 3) ? 3\n",
        "    Il reste 9 allumettes.\n",
        "    Joueur 2, combien d'allumettes voulez-vous retirer (1, 2 ou 3) ? 3\n",
        "    Il reste 6 allumettes.\n",
        "    Joueur 2, combien d'allumettes voulez-vous retirer (1, 2 ou 3) ? +3\n",
        "    Il reste 3 allumettes.\n",
        "    Joueur 2, combien d'allumettes voulez-vous retirer (1, 2 ou 3) ? 1\n",
        "    Il reste 2 allumettes.\n",
        "    Joueur 2, combien d'allumettes voulez-vous retirer (1, 2 ou 3) ? 3\n",
        "    Nombre invalide d'allumettes ! Veuillez choisir à nouveau.\n",
        "    Joueur 2, combien d'allumettes voulez-vous retirer (1, 2 ou 3) ? 2\n",
        "    Joueur 2 a retiré la dernière allumette. Joueur1 gagne !"
      ],
      "metadata": {
        "id": "QBy9ctn6biBv"
      }
    },
    {
      "cell_type": "code",
      "source": [
        "# CODE ICI"
      ],
      "metadata": {
        "id": "5jnSTWdJcgLD"
      },
      "execution_count": null,
      "outputs": []
    },
    {
      "cell_type": "markdown",
      "source": [
        "\n",
        "<br><br><br><br>\n",
        "--- ---\n",
        "<br><br><br><br>\n",
        "\n",
        "\n"
      ],
      "metadata": {
        "id": "rSxYyqHbcb1E"
      }
    }
  ]
}